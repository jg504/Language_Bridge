{
 "metadata": {
  "language_info": {
   "codemirror_mode": {
    "name": "ipython",
    "version": 3
   },
   "file_extension": ".py",
   "mimetype": "text/x-python",
   "name": "python",
   "nbconvert_exporter": "python",
   "pygments_lexer": "ipython3",
   "version": "3.6.3"
  },
  "orig_nbformat": 2,
  "kernelspec": {
   "name": "python363jvsc74a57bd028680711ddd7dad861a03785bd679e4aa0a68527598e09cd41c9e230880f50cc",
   "display_name": "Python 3.6.3 64-bit"
  }
 },
 "nbformat": 4,
 "nbformat_minor": 2,
 "cells": [
  {
   "cell_type": "code",
   "execution_count": 1,
   "metadata": {},
   "outputs": [],
   "source": [
    "from pandas import read_csv"
   ]
  },
  {
   "cell_type": "code",
   "execution_count": 2,
   "metadata": {},
   "outputs": [
    {
     "output_type": "execute_result",
     "data": {
      "text/plain": [
       "    Unnamed: 0   ID       Name  Age               E-Mail       Password  \\\n",
       "0            0    1       John   18       John@gmail.com       John@123   \n",
       "1            1    2       Mary   27       Mary@gmail.com       Mary@123   \n",
       "2            2    3      James   16      James@gmail.com      James@123   \n",
       "3            3    4      Annie   24      Annie@gmail.com      Annie@123   \n",
       "4            4    5       Paul   25       Paul@gmail.com       Paul@123   \n",
       "..         ...  ...        ...  ...                  ...            ...   \n",
       "95          95   96        Ann   36        Ann@gmail.com        Ann@123   \n",
       "96          96   97     Warren   35     Warren@gmail.com     Warren@123   \n",
       "97          97   98  Josephine   36  Josephine@gmail.com  Josephine@123   \n",
       "98          98   99       Alex   16       Alex@gmail.com       Alex@123   \n",
       "99          99  100    Kathryn   24    Kathryn@gmail.com    Kathryn@123   \n",
       "\n",
       "    Sports  International Affairs  Cinematography  Literature  Cuisine  Music  \\\n",
       "0        1                      0               0           1        1      0   \n",
       "1        0                      0               1           1        1      0   \n",
       "2        0                      0               1           1        0      1   \n",
       "3        1                      1               0           0        1      0   \n",
       "4        0                      0               1           0        1      1   \n",
       "..     ...                    ...             ...         ...      ...    ...   \n",
       "95       1                      0               1           0        1      0   \n",
       "96       1                      0               0           1        0      0   \n",
       "97       1                      1               1           1        1      0   \n",
       "98       0                      0               1           0        0      0   \n",
       "99       0                      0               1           1        1      1   \n",
       "\n",
       "    Dance  Cinema Known Language New Language  \n",
       "0       0       1       Mandarin      Spanish  \n",
       "1       1       1         French     Mandarin  \n",
       "2       0       0         German     Mandarin  \n",
       "3       1       1          Hindi     Mandarin  \n",
       "4       1       1         German       French  \n",
       "..    ...     ...            ...          ...  \n",
       "95      0       1        Spanish       German  \n",
       "96      0       1       Mandarin       German  \n",
       "97      1       1          Hindi       German  \n",
       "98      0       1        English       French  \n",
       "99      0       0          Hindi     Mandarin  \n",
       "\n",
       "[100 rows x 16 columns]"
      ],
      "text/html": "<div>\n<style scoped>\n    .dataframe tbody tr th:only-of-type {\n        vertical-align: middle;\n    }\n\n    .dataframe tbody tr th {\n        vertical-align: top;\n    }\n\n    .dataframe thead th {\n        text-align: right;\n    }\n</style>\n<table border=\"1\" class=\"dataframe\">\n  <thead>\n    <tr style=\"text-align: right;\">\n      <th></th>\n      <th>Unnamed: 0</th>\n      <th>ID</th>\n      <th>Name</th>\n      <th>Age</th>\n      <th>E-Mail</th>\n      <th>Password</th>\n      <th>Sports</th>\n      <th>International Affairs</th>\n      <th>Cinematography</th>\n      <th>Literature</th>\n      <th>Cuisine</th>\n      <th>Music</th>\n      <th>Dance</th>\n      <th>Cinema</th>\n      <th>Known Language</th>\n      <th>New Language</th>\n    </tr>\n  </thead>\n  <tbody>\n    <tr>\n      <td>0</td>\n      <td>0</td>\n      <td>1</td>\n      <td>John</td>\n      <td>18</td>\n      <td>John@gmail.com</td>\n      <td>John@123</td>\n      <td>1</td>\n      <td>0</td>\n      <td>0</td>\n      <td>1</td>\n      <td>1</td>\n      <td>0</td>\n      <td>0</td>\n      <td>1</td>\n      <td>Mandarin</td>\n      <td>Spanish</td>\n    </tr>\n    <tr>\n      <td>1</td>\n      <td>1</td>\n      <td>2</td>\n      <td>Mary</td>\n      <td>27</td>\n      <td>Mary@gmail.com</td>\n      <td>Mary@123</td>\n      <td>0</td>\n      <td>0</td>\n      <td>1</td>\n      <td>1</td>\n      <td>1</td>\n      <td>0</td>\n      <td>1</td>\n      <td>1</td>\n      <td>French</td>\n      <td>Mandarin</td>\n    </tr>\n    <tr>\n      <td>2</td>\n      <td>2</td>\n      <td>3</td>\n      <td>James</td>\n      <td>16</td>\n      <td>James@gmail.com</td>\n      <td>James@123</td>\n      <td>0</td>\n      <td>0</td>\n      <td>1</td>\n      <td>1</td>\n      <td>0</td>\n      <td>1</td>\n      <td>0</td>\n      <td>0</td>\n      <td>German</td>\n      <td>Mandarin</td>\n    </tr>\n    <tr>\n      <td>3</td>\n      <td>3</td>\n      <td>4</td>\n      <td>Annie</td>\n      <td>24</td>\n      <td>Annie@gmail.com</td>\n      <td>Annie@123</td>\n      <td>1</td>\n      <td>1</td>\n      <td>0</td>\n      <td>0</td>\n      <td>1</td>\n      <td>0</td>\n      <td>1</td>\n      <td>1</td>\n      <td>Hindi</td>\n      <td>Mandarin</td>\n    </tr>\n    <tr>\n      <td>4</td>\n      <td>4</td>\n      <td>5</td>\n      <td>Paul</td>\n      <td>25</td>\n      <td>Paul@gmail.com</td>\n      <td>Paul@123</td>\n      <td>0</td>\n      <td>0</td>\n      <td>1</td>\n      <td>0</td>\n      <td>1</td>\n      <td>1</td>\n      <td>1</td>\n      <td>1</td>\n      <td>German</td>\n      <td>French</td>\n    </tr>\n    <tr>\n      <td>...</td>\n      <td>...</td>\n      <td>...</td>\n      <td>...</td>\n      <td>...</td>\n      <td>...</td>\n      <td>...</td>\n      <td>...</td>\n      <td>...</td>\n      <td>...</td>\n      <td>...</td>\n      <td>...</td>\n      <td>...</td>\n      <td>...</td>\n      <td>...</td>\n      <td>...</td>\n      <td>...</td>\n    </tr>\n    <tr>\n      <td>95</td>\n      <td>95</td>\n      <td>96</td>\n      <td>Ann</td>\n      <td>36</td>\n      <td>Ann@gmail.com</td>\n      <td>Ann@123</td>\n      <td>1</td>\n      <td>0</td>\n      <td>1</td>\n      <td>0</td>\n      <td>1</td>\n      <td>0</td>\n      <td>0</td>\n      <td>1</td>\n      <td>Spanish</td>\n      <td>German</td>\n    </tr>\n    <tr>\n      <td>96</td>\n      <td>96</td>\n      <td>97</td>\n      <td>Warren</td>\n      <td>35</td>\n      <td>Warren@gmail.com</td>\n      <td>Warren@123</td>\n      <td>1</td>\n      <td>0</td>\n      <td>0</td>\n      <td>1</td>\n      <td>0</td>\n      <td>0</td>\n      <td>0</td>\n      <td>1</td>\n      <td>Mandarin</td>\n      <td>German</td>\n    </tr>\n    <tr>\n      <td>97</td>\n      <td>97</td>\n      <td>98</td>\n      <td>Josephine</td>\n      <td>36</td>\n      <td>Josephine@gmail.com</td>\n      <td>Josephine@123</td>\n      <td>1</td>\n      <td>1</td>\n      <td>1</td>\n      <td>1</td>\n      <td>1</td>\n      <td>0</td>\n      <td>1</td>\n      <td>1</td>\n      <td>Hindi</td>\n      <td>German</td>\n    </tr>\n    <tr>\n      <td>98</td>\n      <td>98</td>\n      <td>99</td>\n      <td>Alex</td>\n      <td>16</td>\n      <td>Alex@gmail.com</td>\n      <td>Alex@123</td>\n      <td>0</td>\n      <td>0</td>\n      <td>1</td>\n      <td>0</td>\n      <td>0</td>\n      <td>0</td>\n      <td>0</td>\n      <td>1</td>\n      <td>English</td>\n      <td>French</td>\n    </tr>\n    <tr>\n      <td>99</td>\n      <td>99</td>\n      <td>100</td>\n      <td>Kathryn</td>\n      <td>24</td>\n      <td>Kathryn@gmail.com</td>\n      <td>Kathryn@123</td>\n      <td>0</td>\n      <td>0</td>\n      <td>1</td>\n      <td>1</td>\n      <td>1</td>\n      <td>1</td>\n      <td>0</td>\n      <td>0</td>\n      <td>Hindi</td>\n      <td>Mandarin</td>\n    </tr>\n  </tbody>\n</table>\n<p>100 rows × 16 columns</p>\n</div>"
     },
     "metadata": {},
     "execution_count": 2
    }
   ],
   "source": [
    "csv = read_csv(r\"database.csv\")\n",
    "csv"
   ]
  }
 ]
}