{
 "metadata": {
  "language_info": {
   "codemirror_mode": {
    "name": "ipython",
    "version": 3
   },
   "file_extension": ".py",
   "mimetype": "text/x-python",
   "name": "python",
   "nbconvert_exporter": "python",
   "pygments_lexer": "ipython3",
   "version": "3.6.3"
  },
  "orig_nbformat": 2,
  "kernelspec": {
   "name": "python363jvsc74a57bd028680711ddd7dad861a03785bd679e4aa0a68527598e09cd41c9e230880f50cc",
   "display_name": "Python 3.6.3 64-bit"
  }
 },
 "nbformat": 4,
 "nbformat_minor": 2,
 "cells": [
  {
   "cell_type": "code",
   "execution_count": 20,
   "metadata": {},
   "outputs": [],
   "source": [
    "from pandas import DataFrame, read_csv\n",
    "from random import randint"
   ]
  },
  {
   "cell_type": "code",
   "execution_count": 1,
   "metadata": {},
   "outputs": [
    {
     "output_type": "execute_result",
     "data": {
      "text/plain": [
       "Empty DataFrame\n",
       "Columns: [ID, Name, Age, E-Mail, Password, Sports, International Affairs, Cinematography, Literature, Cuisine, Music, Dance]\n",
       "Index: []"
      ],
      "text/html": "<div>\n<style scoped>\n    .dataframe tbody tr th:only-of-type {\n        vertical-align: middle;\n    }\n\n    .dataframe tbody tr th {\n        vertical-align: top;\n    }\n\n    .dataframe thead th {\n        text-align: right;\n    }\n</style>\n<table border=\"1\" class=\"dataframe\">\n  <thead>\n    <tr style=\"text-align: right;\">\n      <th></th>\n      <th>ID</th>\n      <th>Name</th>\n      <th>Age</th>\n      <th>E-Mail</th>\n      <th>Password</th>\n      <th>Sports</th>\n      <th>International Affairs</th>\n      <th>Cinematography</th>\n      <th>Literature</th>\n      <th>Cuisine</th>\n      <th>Music</th>\n      <th>Dance</th>\n    </tr>\n  </thead>\n  <tbody>\n  </tbody>\n</table>\n</div>"
     },
     "metadata": {},
     "execution_count": 1
    }
   ],
   "source": [
    "csv = DataFrame(columns = ['ID', 'Name', 'Age', 'E-Mail', 'Password', 'Sports', 'International Affairs', 'Cinematography', 'Literature', 'Cuisine', 'Music', 'Dance'])\n",
    "\n",
    "csv"
   ]
  },
  {
   "cell_type": "code",
   "execution_count": 27,
   "metadata": {},
   "outputs": [
    {
     "output_type": "execute_result",
     "data": {
      "text/plain": [
       "     ID       Name  Age  ... Dance               E-mail  Cinema\n",
       "0     1       John   18  ...     0       John@gmail.com       1\n",
       "1     2       Mary   27  ...     1       Mary@gmail.com       1\n",
       "2     3      James   16  ...     0      James@gmail.com       0\n",
       "3     4      Annie   24  ...     1      Annie@gmail.com       1\n",
       "4     5       Paul   25  ...     1       Paul@gmail.com       1\n",
       "..  ...        ...  ...  ...   ...                  ...     ...\n",
       "95   96        Ann   36  ...     0        Ann@gmail.com       1\n",
       "96   97     Warren   35  ...     0     Warren@gmail.com       1\n",
       "97   98  Josephine   36  ...     1  Josephine@gmail.com       1\n",
       "98   99       Alex   16  ...     0       Alex@gmail.com       1\n",
       "99  100    Kathryn   24  ...     0    Kathryn@gmail.com       0\n",
       "\n",
       "[100 rows x 14 columns]"
      ],
      "text/html": "<div>\n<style scoped>\n    .dataframe tbody tr th:only-of-type {\n        vertical-align: middle;\n    }\n\n    .dataframe tbody tr th {\n        vertical-align: top;\n    }\n\n    .dataframe thead th {\n        text-align: right;\n    }\n</style>\n<table border=\"1\" class=\"dataframe\">\n  <thead>\n    <tr style=\"text-align: right;\">\n      <th></th>\n      <th>ID</th>\n      <th>Name</th>\n      <th>Age</th>\n      <th>E-Mail</th>\n      <th>Password</th>\n      <th>Sports</th>\n      <th>International Affairs</th>\n      <th>Cinematography</th>\n      <th>Literature</th>\n      <th>Cuisine</th>\n      <th>Music</th>\n      <th>Dance</th>\n      <th>E-mail</th>\n      <th>Cinema</th>\n    </tr>\n  </thead>\n  <tbody>\n    <tr>\n      <td>0</td>\n      <td>1</td>\n      <td>John</td>\n      <td>18</td>\n      <td>John@gmail.com</td>\n      <td>John@123</td>\n      <td>1</td>\n      <td>0</td>\n      <td>0</td>\n      <td>1</td>\n      <td>1</td>\n      <td>0</td>\n      <td>0</td>\n      <td>John@gmail.com</td>\n      <td>1</td>\n    </tr>\n    <tr>\n      <td>1</td>\n      <td>2</td>\n      <td>Mary</td>\n      <td>27</td>\n      <td>Mary@gmail.com</td>\n      <td>Mary@123</td>\n      <td>0</td>\n      <td>0</td>\n      <td>1</td>\n      <td>1</td>\n      <td>1</td>\n      <td>0</td>\n      <td>1</td>\n      <td>Mary@gmail.com</td>\n      <td>1</td>\n    </tr>\n    <tr>\n      <td>2</td>\n      <td>3</td>\n      <td>James</td>\n      <td>16</td>\n      <td>James@gmail.com</td>\n      <td>James@123</td>\n      <td>0</td>\n      <td>0</td>\n      <td>1</td>\n      <td>1</td>\n      <td>0</td>\n      <td>1</td>\n      <td>0</td>\n      <td>James@gmail.com</td>\n      <td>0</td>\n    </tr>\n    <tr>\n      <td>3</td>\n      <td>4</td>\n      <td>Annie</td>\n      <td>24</td>\n      <td>Annie@gmail.com</td>\n      <td>Annie@123</td>\n      <td>1</td>\n      <td>1</td>\n      <td>0</td>\n      <td>0</td>\n      <td>1</td>\n      <td>0</td>\n      <td>1</td>\n      <td>Annie@gmail.com</td>\n      <td>1</td>\n    </tr>\n    <tr>\n      <td>4</td>\n      <td>5</td>\n      <td>Paul</td>\n      <td>25</td>\n      <td>Paul@gmail.com</td>\n      <td>Paul@123</td>\n      <td>0</td>\n      <td>0</td>\n      <td>1</td>\n      <td>0</td>\n      <td>1</td>\n      <td>1</td>\n      <td>1</td>\n      <td>Paul@gmail.com</td>\n      <td>1</td>\n    </tr>\n    <tr>\n      <td>...</td>\n      <td>...</td>\n      <td>...</td>\n      <td>...</td>\n      <td>...</td>\n      <td>...</td>\n      <td>...</td>\n      <td>...</td>\n      <td>...</td>\n      <td>...</td>\n      <td>...</td>\n      <td>...</td>\n      <td>...</td>\n      <td>...</td>\n      <td>...</td>\n    </tr>\n    <tr>\n      <td>95</td>\n      <td>96</td>\n      <td>Ann</td>\n      <td>36</td>\n      <td>Ann@gmail.com</td>\n      <td>Ann@123</td>\n      <td>1</td>\n      <td>0</td>\n      <td>1</td>\n      <td>0</td>\n      <td>1</td>\n      <td>0</td>\n      <td>0</td>\n      <td>Ann@gmail.com</td>\n      <td>1</td>\n    </tr>\n    <tr>\n      <td>96</td>\n      <td>97</td>\n      <td>Warren</td>\n      <td>35</td>\n      <td>Warren@gmail.com</td>\n      <td>Warren@123</td>\n      <td>1</td>\n      <td>0</td>\n      <td>0</td>\n      <td>1</td>\n      <td>0</td>\n      <td>0</td>\n      <td>0</td>\n      <td>Warren@gmail.com</td>\n      <td>1</td>\n    </tr>\n    <tr>\n      <td>97</td>\n      <td>98</td>\n      <td>Josephine</td>\n      <td>36</td>\n      <td>Josephine@gmail.com</td>\n      <td>Josephine@123</td>\n      <td>1</td>\n      <td>1</td>\n      <td>1</td>\n      <td>1</td>\n      <td>1</td>\n      <td>0</td>\n      <td>1</td>\n      <td>Josephine@gmail.com</td>\n      <td>1</td>\n    </tr>\n    <tr>\n      <td>98</td>\n      <td>99</td>\n      <td>Alex</td>\n      <td>16</td>\n      <td>Alex@gmail.com</td>\n      <td>Alex@123</td>\n      <td>0</td>\n      <td>0</td>\n      <td>1</td>\n      <td>0</td>\n      <td>0</td>\n      <td>0</td>\n      <td>0</td>\n      <td>Alex@gmail.com</td>\n      <td>1</td>\n    </tr>\n    <tr>\n      <td>99</td>\n      <td>100</td>\n      <td>Kathryn</td>\n      <td>24</td>\n      <td>Kathryn@gmail.com</td>\n      <td>Kathryn@123</td>\n      <td>0</td>\n      <td>0</td>\n      <td>1</td>\n      <td>1</td>\n      <td>1</td>\n      <td>1</td>\n      <td>0</td>\n      <td>Kathryn@gmail.com</td>\n      <td>0</td>\n    </tr>\n  </tbody>\n</table>\n<p>100 rows × 14 columns</p>\n</div>"
     },
     "metadata": {},
     "execution_count": 27
    }
   ],
   "source": [
    "ids, name, email, password, sports, intAffairs, cinema, lit, cuisine, music, dance, age = list(), list(), list(), list(), list(), list(), list(), list(), list(), list(), list(), list()\n",
    "\n",
    "boys, girls = read_csv(r'boysData.csv'), read_csv(r'girlsData.csv')\n",
    "\n",
    "j = k = 0\n",
    "\n",
    "for i in range(1, 101):\n",
    "    ids.append(i)\n",
    "\n",
    "    if i % 2 == 1:\n",
    "        name.append(boys['Name'].iloc[j])\n",
    "\n",
    "        j += 1\n",
    "    \n",
    "    else:\n",
    "        name.append(girls['Name'].iloc[k])\n",
    "\n",
    "        k += 1\n",
    "    \n",
    "    age.append(randint(16, 40))\n",
    "    email.append(name[i - 1] + '@gmail.com')\n",
    "    password.append(name[i - 1] + '@' + str(123))\n",
    "    sports.append(randint(0, 1))\n",
    "    intAffairs.append(randint(0, 1))\n",
    "    cinema.append(randint(0, 1))\n",
    "    lit.append(randint(0, 1))\n",
    "    cuisine.append(randint(0, 1))\n",
    "    music.append(randint(0, 1))\n",
    "    dance.append(randint(0, 1))\n",
    "\n",
    "csv['ID'] = ids\n",
    "csv['Name'] = name\n",
    "csv['Age'] = age\n",
    "csv['E-Mail'] = email\n",
    "csv['Password'] = password\n",
    "csv['Sports'] = sports\n",
    "csv['International Affairs'] = intAffairs\n",
    "csv['Cinematography'] = cinema\n",
    "csv['Literature'] = lit\n",
    "csv['Cuisine'] = cuisine\n",
    "csv['Music'] = music\n",
    "csv['Dance'] = dance\n",
    "\n",
    "csv"
   ]
  },
  {
   "cell_type": "code",
   "execution_count": 31,
   "metadata": {},
   "outputs": [],
   "source": []
  },
  {
   "cell_type": "code",
   "execution_count": 32,
   "metadata": {},
   "outputs": [
    {
     "output_type": "execute_result",
     "data": {
      "text/plain": [
       "     ID       Name  Age               E-Mail  ... Cuisine  Music  Dance  Cinema\n",
       "0     1       John   18       John@gmail.com  ...       1      0      0       1\n",
       "1     2       Mary   27       Mary@gmail.com  ...       1      0      1       1\n",
       "2     3      James   16      James@gmail.com  ...       0      1      0       0\n",
       "3     4      Annie   24      Annie@gmail.com  ...       1      0      1       1\n",
       "4     5       Paul   25       Paul@gmail.com  ...       1      1      1       1\n",
       "..  ...        ...  ...                  ...  ...     ...    ...    ...     ...\n",
       "95   96        Ann   36        Ann@gmail.com  ...       1      0      0       1\n",
       "96   97     Warren   35     Warren@gmail.com  ...       0      0      0       1\n",
       "97   98  Josephine   36  Josephine@gmail.com  ...       1      0      1       1\n",
       "98   99       Alex   16       Alex@gmail.com  ...       0      0      0       1\n",
       "99  100    Kathryn   24    Kathryn@gmail.com  ...       1      1      0       0\n",
       "\n",
       "[100 rows x 13 columns]"
      ],
      "text/html": "<div>\n<style scoped>\n    .dataframe tbody tr th:only-of-type {\n        vertical-align: middle;\n    }\n\n    .dataframe tbody tr th {\n        vertical-align: top;\n    }\n\n    .dataframe thead th {\n        text-align: right;\n    }\n</style>\n<table border=\"1\" class=\"dataframe\">\n  <thead>\n    <tr style=\"text-align: right;\">\n      <th></th>\n      <th>ID</th>\n      <th>Name</th>\n      <th>Age</th>\n      <th>E-Mail</th>\n      <th>Password</th>\n      <th>Sports</th>\n      <th>International Affairs</th>\n      <th>Cinematography</th>\n      <th>Literature</th>\n      <th>Cuisine</th>\n      <th>Music</th>\n      <th>Dance</th>\n      <th>Cinema</th>\n    </tr>\n  </thead>\n  <tbody>\n    <tr>\n      <td>0</td>\n      <td>1</td>\n      <td>John</td>\n      <td>18</td>\n      <td>John@gmail.com</td>\n      <td>John@123</td>\n      <td>1</td>\n      <td>0</td>\n      <td>0</td>\n      <td>1</td>\n      <td>1</td>\n      <td>0</td>\n      <td>0</td>\n      <td>1</td>\n    </tr>\n    <tr>\n      <td>1</td>\n      <td>2</td>\n      <td>Mary</td>\n      <td>27</td>\n      <td>Mary@gmail.com</td>\n      <td>Mary@123</td>\n      <td>0</td>\n      <td>0</td>\n      <td>1</td>\n      <td>1</td>\n      <td>1</td>\n      <td>0</td>\n      <td>1</td>\n      <td>1</td>\n    </tr>\n    <tr>\n      <td>2</td>\n      <td>3</td>\n      <td>James</td>\n      <td>16</td>\n      <td>James@gmail.com</td>\n      <td>James@123</td>\n      <td>0</td>\n      <td>0</td>\n      <td>1</td>\n      <td>1</td>\n      <td>0</td>\n      <td>1</td>\n      <td>0</td>\n      <td>0</td>\n    </tr>\n    <tr>\n      <td>3</td>\n      <td>4</td>\n      <td>Annie</td>\n      <td>24</td>\n      <td>Annie@gmail.com</td>\n      <td>Annie@123</td>\n      <td>1</td>\n      <td>1</td>\n      <td>0</td>\n      <td>0</td>\n      <td>1</td>\n      <td>0</td>\n      <td>1</td>\n      <td>1</td>\n    </tr>\n    <tr>\n      <td>4</td>\n      <td>5</td>\n      <td>Paul</td>\n      <td>25</td>\n      <td>Paul@gmail.com</td>\n      <td>Paul@123</td>\n      <td>0</td>\n      <td>0</td>\n      <td>1</td>\n      <td>0</td>\n      <td>1</td>\n      <td>1</td>\n      <td>1</td>\n      <td>1</td>\n    </tr>\n    <tr>\n      <td>...</td>\n      <td>...</td>\n      <td>...</td>\n      <td>...</td>\n      <td>...</td>\n      <td>...</td>\n      <td>...</td>\n      <td>...</td>\n      <td>...</td>\n      <td>...</td>\n      <td>...</td>\n      <td>...</td>\n      <td>...</td>\n      <td>...</td>\n    </tr>\n    <tr>\n      <td>95</td>\n      <td>96</td>\n      <td>Ann</td>\n      <td>36</td>\n      <td>Ann@gmail.com</td>\n      <td>Ann@123</td>\n      <td>1</td>\n      <td>0</td>\n      <td>1</td>\n      <td>0</td>\n      <td>1</td>\n      <td>0</td>\n      <td>0</td>\n      <td>1</td>\n    </tr>\n    <tr>\n      <td>96</td>\n      <td>97</td>\n      <td>Warren</td>\n      <td>35</td>\n      <td>Warren@gmail.com</td>\n      <td>Warren@123</td>\n      <td>1</td>\n      <td>0</td>\n      <td>0</td>\n      <td>1</td>\n      <td>0</td>\n      <td>0</td>\n      <td>0</td>\n      <td>1</td>\n    </tr>\n    <tr>\n      <td>97</td>\n      <td>98</td>\n      <td>Josephine</td>\n      <td>36</td>\n      <td>Josephine@gmail.com</td>\n      <td>Josephine@123</td>\n      <td>1</td>\n      <td>1</td>\n      <td>1</td>\n      <td>1</td>\n      <td>1</td>\n      <td>0</td>\n      <td>1</td>\n      <td>1</td>\n    </tr>\n    <tr>\n      <td>98</td>\n      <td>99</td>\n      <td>Alex</td>\n      <td>16</td>\n      <td>Alex@gmail.com</td>\n      <td>Alex@123</td>\n      <td>0</td>\n      <td>0</td>\n      <td>1</td>\n      <td>0</td>\n      <td>0</td>\n      <td>0</td>\n      <td>0</td>\n      <td>1</td>\n    </tr>\n    <tr>\n      <td>99</td>\n      <td>100</td>\n      <td>Kathryn</td>\n      <td>24</td>\n      <td>Kathryn@gmail.com</td>\n      <td>Kathryn@123</td>\n      <td>0</td>\n      <td>0</td>\n      <td>1</td>\n      <td>1</td>\n      <td>1</td>\n      <td>1</td>\n      <td>0</td>\n      <td>0</td>\n    </tr>\n  </tbody>\n</table>\n<p>100 rows × 13 columns</p>\n</div>"
     },
     "metadata": {},
     "execution_count": 32
    }
   ],
   "source": []
  }
 ]
}